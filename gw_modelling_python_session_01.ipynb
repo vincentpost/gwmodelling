{
 "cells": [
  {
   "cell_type": "markdown",
   "id": "0f4ee7a8",
   "metadata": {
    "tags": []
   },
   "source": [
    "# Groundwater Modelling in Python - Session 1"
   ]
  },
  {
   "cell_type": "markdown",
   "id": "c262a0a4-6132-443a-a472-243be6908bbb",
   "metadata": {},
   "source": [
    "<img src=\"figs/part_of_cover_bakker_post.png\" width=\"800px\">"
   ]
  },
  {
   "cell_type": "code",
   "execution_count": null,
   "id": "e62b54a2-dcb3-4512-8fc9-85d871e7e2a9",
   "metadata": {
    "tags": []
   },
   "outputs": [],
   "source": [
    "# Before starting we need to import NumPy and Matplotlib and set some defaults\n",
    "import numpy as np\n",
    "import matplotlib.pyplot as plt\n",
    "# and set some parameters to make the figures look good\n",
    "plt.rcParams[\"figure.autolayout\"] = True # same as tight_layout after every plot\n",
    "plt.rcParams[\"figure.figsize\"] = (9, 3.5) # set default figure size\n",
    "plt.rcParams[\"contour.negative_linestyle\"] = 'solid' # set default line style\n",
    "plt.rc('font', size=12)"
   ]
  },
  {
   "cell_type": "markdown",
   "id": "1361e7de-488b-40bb-aeef-85739f75ff4f",
   "metadata": {},
   "source": [
    "Sections and Exercises with a star are additional material that is not covered in detail during the workshop."
   ]
  },
  {
   "cell_type": "markdown",
   "id": "01f72e17-bb62-45ba-9593-d9938a671224",
   "metadata": {
    "tags": []
   },
   "source": [
    "# Basics of groundwater flow"
   ]
  },
  {
   "cell_type": "markdown",
   "id": "e561cf87-b55d-416a-b1c4-7f1920ad0753",
   "metadata": {},
   "source": [
    "Solutions are presented for one-dimensional steady Dupuit flow, where the head is a function of the horizontal coordinate $x$ only. The head in the aquifer does not vary in the vertical direction within an aquifer. The vertical component of flow within an aquifer is computed from continuity of flow by neglecting the resistance to flow in the vertical direction (the Dupuit-Forchheimer approximation). \n",
    "\n",
    "The governing differential equation for groundwater flow is obtained by combining a fluid mass balance (or volume balance if the groundwater has a constant density) with Darcy's law. This course deals with exact solutions for groundwater flow problems. In mathematical terms: exact solutions to the differential equation and stated boundary conditions. The exact solution for the head is a function of the spatial coordinates ($x$ or $x$ and $y$) and time $t$ (for transient flow). Alternatively, approximate solutions may be obtained with numerical techniques (not part of this course) where the flow domain is divided in, e.g., rectangles or triangles.  \n",
    "\n",
    "The procedure of deriving a differential equation and obtaining an exact solution is illustrated for the case of steady one-dimensional flow in an aquifer of constant transmissivity. The volume balance for groundwater for steady flow is\n",
    "\n",
    "\\begin{equation}\\label{continuity}\n",
    "\\text{Volume in} - \\text{Volume out} = 0\n",
    "\\end{equation}\n",
    "\n",
    "The volume balance for steady one-dimensional groundwater flow in an aquifer is derived by considering a small part of an aquifer that is $\\Delta x$ long and $\\Delta y=1$ wide in the direction normal to the plane of flow. Inflow consists of horizontal flow from the left, $Q_x(x)$, and recharge at the top, $N$ [L/T]. Outflow consists of horizontal flow at the right, $Q_x(x+\\Delta x)$ (see Figure). The discharge vector $Q_x$ is the discharge per unit width of aquifer so the dimensions are L$^2$/T, while the recharge is the discharge per unit area with dimensions L/T.\n",
    "\n",
    "<IMG src=\"figs/merged_nbs1_4_0.svg\">\n",
    "\n",
    "Substitution of the appropriate volumes in the volume balance gives\n",
    "\\begin{equation}\n",
    "Q_x(x,t)\\Delta t + N\\Delta x \\Delta t - Q_x(x+\\Delta x,t)\\Delta t = 0\n",
    "\\end{equation}\n",
    "Division by $\\Delta x$ and rearrangement of terms gives\n",
    "\\begin{equation}\n",
    "\\frac{Q_x(x + \\Delta x, t) - Q_x(x, t)}{\\Delta x} = N\n",
    "\\end{equation}\n",
    "In the limit for $\\Delta x \\to 0$ this gives the differential form of the continuity equation for steady one-dimensional horizontal flow\n",
    "\\begin{equation}\\label{one_d}\n",
    "\\frac{\\text{d}  Q_x}{\\text{d}  x} = N\n",
    "\\end{equation}\n",
    "When transmissivity is assumed constant and the Dupuit-Forcheimer approximation is adopted (so that the head is approximated as constant in the vertical direction) horizontal flow is distributed equally over the aquifer thickness $H$ so that the discharge vector $Q_x$, the integrated specific discharge over the thickness of the aquifer, may be written as\n",
    "\\begin{equation}\\label{Qx} \n",
    "Q_x=Hq_x=-T\\frac{\\text{d}h}{\\text{d}x}\n",
    "\\end{equation}\n",
    "where $T=kH$ is the transmissivity of the aquifer and $q_x$ is given by Darcy's law\n",
    "\\begin{equation}\\label{darcy}\n",
    "q_x = -k\\frac{\\text{d} h}{\\text{d}  x} \n",
    "\\end{equation}\n",
    "Recall that the average velocity $v_x$ in the aquifer is computed from $q_x$ through division by the porosity $n$\n",
    "\\begin{equation}\n",
    "    v_x = q_x / n\n",
    "\\end{equation}\n",
    "\n",
    "Substitution of the expression for $Q_x$ in the continuity equation gives\n",
    "\\begin{equation}\n",
    "\\frac{\\text{d}}{\\text{d}x}\\left(T\\frac{\\text{d}h}{\\text{d}x}\\right)=-N\n",
    "\\end{equation}\n",
    "When the transmissivity $T$ can be approximated as constant, the differential equation simplifies to\n",
    "\\begin{equation}\\label{1dpoisson}\n",
    "\\frac{\\text{d}^2h}{\\text{d}x^2}=-\\frac{N}{T}\n",
    "\\end{equation}\n",
    "This is a second order, linear, ordinary differential equation known as the Poisson equation. \n",
    "The general solution is obtained by integration (twice), which gives, for the case that $N$ is constant\n",
    "\\begin{equation}\\label{hgen}\n",
    "h=-\\frac{N}{2T}x^2 + Ax +B\n",
    "\\end{equation}\n",
    "where $A$ and $B$ are integration constants that need to be determined from boundary conditions."
   ]
  },
  {
   "cell_type": "markdown",
   "id": "a3c9388b-fca5-40df-b1f7-ac677eaab185",
   "metadata": {
    "tags": []
   },
   "source": [
    "# Solution 1. Recharge between two rivers"
   ]
  },
  {
   "cell_type": "markdown",
   "id": "43ddadd7-0086-44f9-a095-e4e08c803ff5",
   "metadata": {},
   "source": [
    "## Problem definition\n",
    "In this first flow problem, the aquifer is bounded on the left and right sides by two long parallel rivers that fully penetrate the aquifer. The rivers are a distance $L$ apart and in direct hydraulic contact (i.e., no entry resistance) with the aquifer so that the boundary conditions are\n",
    "\\begin{equation}\n",
    "h\\vert_{x=0} = h_0\n",
    "\\end{equation}\n",
    "\\begin{equation}\n",
    "h\\vert_{x=L} = h_L\n",
    "\\end{equation}"
   ]
  },
  {
   "cell_type": "markdown",
   "id": "c4ff1708-7cd8-4946-86e4-cd4c611a08c8",
   "metadata": {},
   "source": [
    "<img src=\"figs/merged_nbs1_29_0.svg\" width=400>"
   ]
  },
  {
   "cell_type": "markdown",
   "id": "cae5445c-9b4c-48dd-8464-612062441719",
   "metadata": {
    "tags": []
   },
   "source": [
    "With these boundary conditions the solution for the head becomes\n",
    "\\begin{equation}\\label{hrivers}\n",
    "h=-\\frac{N}{2T}(x^2 - Lx) + \\frac{(h_L-h_0)x}{L} + h_0\n",
    "\\end{equation}\n",
    "The solution for the discharge vector is obtained by differentiating this equation and multiplying the result by $-T$ (i.e. applying Darcy's law)\n",
    "\\begin{equation}\n",
    "Q_x = -T\\frac{\\text{d}h}{\\text{d}x} = N\\left(x  - \\frac{L}{2}\\right) - T\\frac{h_L-h_0}{L}\n",
    "\\end{equation}"
   ]
  },
  {
   "cell_type": "code",
   "execution_count": null,
   "id": "4ecfec5f-1a40-4edb-a855-dd223676442c",
   "metadata": {
    "tags": []
   },
   "outputs": [],
   "source": [
    "# parameters\n",
    "L = 1000 # aquifer length, m\n",
    "H = 10 # saturated thickness, m\n",
    "zb = -5 # aquifer bottom, m\n",
    "k = 10 # hydraulic conductivity, m/d\n",
    "n = 0.3 # porosity, -\n",
    "T = k * H # transmissivity, m^2/d\n",
    "h0 = 6 # specified head at the left boundary, m\n",
    "hL = 4 # specified head at the right boundary, m\n",
    "N = 0.001  # areal recharge, m/d"
   ]
  },
  {
   "cell_type": "code",
   "execution_count": null,
   "id": "185af0f4-8947-4113-bfe4-8e150e46e6ca",
   "metadata": {
    "tags": []
   },
   "outputs": [],
   "source": [
    "# solution\n",
    "x = np.linspace(0, L, 100)\n",
    "# Head\n",
    "h = -N / (2 * T) * (x ** 2 - L * x) + (hL - h0) * x / L + h0\n",
    "# Discharge vector\n",
    "# Type your code here"
   ]
  },
  {
   "cell_type": "code",
   "execution_count": null,
   "id": "6bdfc298-8a27-4a7d-aeeb-9bb76a63213c",
   "metadata": {
    "tags": []
   },
   "outputs": [],
   "source": [
    "# plot\n",
    "plt.subplot(121)\n",
    "plt.plot(x, h)\n",
    "plt.grid()\n",
    "plt.xlabel('$x$ (m)')\n",
    "plt.ylabel('head (m)')\n",
    "plt.subplot(122)\n",
    "#plt.plot(x, Qx)\n",
    "plt.grid()\n",
    "plt.xlabel('$x$ (m)')\n",
    "plt.ylabel('$Q_x$ (m$^2$/d)');"
   ]
  },
  {
   "cell_type": "markdown",
   "id": "40ab06fe",
   "metadata": {},
   "source": [
    "### Exercise 1.1\n",
    "\n",
    "Enter the Python code to calculate the discharge vector $Q_x$ in the code cell with the solution for the head. Then plot $Q_x$ as a function of $x$ and determine how much groundwater discharges into the left river and how much into the right river."
   ]
  },
  {
   "cell_type": "code",
   "execution_count": null,
   "id": "da9f20ce-a98c-4d36-b17c-52cc8fbc0d5f",
   "metadata": {},
   "outputs": [],
   "source": [
    "# Type your code here"
   ]
  },
  {
   "cell_type": "markdown",
   "id": "fc8035b9",
   "metadata": {},
   "source": [
    "### Exercise 1.2\n",
    "Consider the case that $h_0 = h_L = 10$ m. The head halfway between the two rivers is measured to be 11 m. Compute $N$ for this case using the parameters of the example above. Plot $h$ vs. $x$ and $Q_x$ vs. $x$. "
   ]
  },
  {
   "cell_type": "code",
   "execution_count": null,
   "id": "a0845658-8652-423e-b9bc-e84c37c128f9",
   "metadata": {},
   "outputs": [],
   "source": [
    "# Type your code here"
   ]
  },
  {
   "cell_type": "markdown",
   "id": "2f364641",
   "metadata": {},
   "source": [
    "## Visualizing the flow field in 2D\n",
    "\n",
    "In this solution, flow is approximated as one-dimensional, and both $h$ and $Q_x$ are functions of $x$ only. In a vertical cross-section, however, flow must be two-dimensional. After all, water infiltrates the aquifer at the top and  discharges into the rivers to the left and right. This apparent contradiction can be resolved by considering a volume balance in two dimensions (see Bakker and Post, 2022 for details). It can then be shown that the vertical component of the specific discharge is\n",
    "\\begin{equation}\\label{qz}\n",
    "q_z=-\\frac{N(z-z_b)}{H}\n",
    "\\end{equation}\n",
    "The flow field can then be visualised using Matplotlib's `streamplot` function. First a set of ($q_x$, $q_z$) pairs is calculated at a grid of points"
   ]
  },
  {
   "cell_type": "code",
   "execution_count": null,
   "id": "28461ce7-1f09-485d-b75a-7f1b064d38bb",
   "metadata": {},
   "outputs": [],
   "source": [
    "# solution specific discharge vector\n",
    "xg, zg = np.meshgrid(np.linspace(0, L, 10), np.linspace(zb, zb + H, 5))\n",
    "qx = (N * (xg - L / 2) - T * (hL - h0) / L) / H\n",
    "qz = - N * (zg - zb) / H"
   ]
  },
  {
   "cell_type": "markdown",
   "id": "1aaff8b2",
   "metadata": {},
   "source": [
    "and then the figure is created"
   ]
  },
  {
   "cell_type": "code",
   "execution_count": null,
   "id": "3befac18-adef-4a6f-8390-d3a49a9d9194",
   "metadata": {},
   "outputs": [],
   "source": [
    "# stream plot\n",
    "plt.subplot(111, aspect=25)\n",
    "plt.streamplot(xg, zg, qx, qz, color='C1')\n",
    "plt.ylim(zb, zb + H)\n",
    "plt.xlabel('$x$ (m)')\n",
    "plt.ylabel('$z$ (m) - VE=25');"
   ]
  },
  {
   "cell_type": "markdown",
   "id": "420db66a",
   "metadata": {},
   "source": [
    "## Travel time$^*$\n",
    "\n",
    "The travel time for water that enters at the top of the aquifer and exits at the left or right river can be computed from the horizontal component of the velocity vector $v_x=q_x/n$ (since $v_x$ is not a function of the vertical coordinate). The travel time $t_\\text{tr}(x_0, x_1)$  from location $x=x_0$ to location $x=x_1$ is\n",
    "\n",
    "\\begin{equation}\n",
    "t_\\text{tr}(x_0, x_1) = \\frac{nH}{N} \\ln\\left[\\frac{v_x|_{x=x_1}}{ v_x|_{x=x_0}}\\right] =\n",
    "\\frac{nH}{N} \\ln\\left[\\frac{\n",
    "N\\left(x_1  - \\frac{L}{2}\\right) - T(h_L-h_0)/L}\n",
    "{N\\left(x_0  - \\frac{L}{2}\\right) - T(h_L-h_0)/L}\\right]\n",
    "\\end{equation}"
   ]
  },
  {
   "cell_type": "markdown",
   "id": "5535bd93",
   "metadata": {},
   "source": [
    "### Exercise 1.3$^*$\n",
    "Compute how long it takes for water that enters the aquifer at $x=500$ m at the top of the aquifer to flow to the right river. Use the same parameters as for the original flow problem (so $h_0 = 6$ m, $h_L = 4$ m and $N = 0.001$ m/d)."
   ]
  },
  {
   "cell_type": "code",
   "execution_count": null,
   "id": "16fc9fbb-7ec5-4fd8-81e8-bf914328fdab",
   "metadata": {},
   "outputs": [],
   "source": [
    "# Type your code here"
   ]
  },
  {
   "cell_type": "markdown",
   "id": "a11704e6-eb72-4bf6-ae8c-7567c2b785a1",
   "metadata": {
    "tags": []
   },
   "source": [
    "# Solution 2 Steady outflow into a lake with a leaky bottom"
   ]
  },
  {
   "cell_type": "markdown",
   "id": "02829318",
   "metadata": {},
   "source": [
    "## Introduction\n",
    "When an aquifer is covered by a leaky layer, the vertical flow across the aquifer top boundary can be specified as a Robin or type 3 boundary condition. With this boundary condition, the vertical flow $q_z$ depends on the head difference across the leaky layer, and the leaky layer's (vertical) hydraulic conductivity $k^*$ and thickness $H^*$. This can be expressed as\n",
    "\\begin{equation}\n",
    "q_z = k^* \\frac{h - h^*}{H^*} = \\frac{h-h^*}{c}\n",
    "\\end{equation}\n",
    "where $c$ is the resistance\n",
    "\\begin{equation}\n",
    "c=\\frac{H^*}{k^*}\n",
    "\\end{equation}\n",
    "The dimension of the resistance $c$ is days.\n",
    "\n",
    "<img src=\"figs/ex2_def.png\" width=800>"
   ]
  },
  {
   "cell_type": "markdown",
   "id": "e5d44952",
   "metadata": {},
   "source": [
    "The differential equation that is obtained by combining continuity of flow and Darcy's law is \n",
    "\\begin{equation}\\label{1dmodhelmholz}\n",
    "\\frac{\\text{d}^2(h-h^*)}{\\text{d}x^2} = \\frac{h-h^*}{\\lambda^2}\n",
    "\\end{equation}\n",
    "where \n",
    "\\begin{equation}\n",
    "\\lambda=\\sqrt{cT}\n",
    "\\end{equation}\n",
    "is referred to as the leakage factor [L]. This differential equation is a second order, linear, homogeneous, ordinary differential equation known as the modified-Helmholtz equation.\n"
   ]
  },
  {
   "cell_type": "markdown",
   "id": "a8da1126",
   "metadata": {},
   "source": [
    "## Problem definition\n",
    "<img src=\"figs/semiconf.svg\" width=400>\n"
   ]
  },
  {
   "cell_type": "markdown",
   "id": "b82473f0",
   "metadata": {},
   "source": [
    "Differential equation:\n",
    "\\begin{equation}\n",
    "\\frac{\\text{d}^2h}{\\text{d}x^2} = 0 \\qquad x\\le 0\n",
    "\\end{equation}\n",
    "\\begin{equation}\n",
    "\\frac{\\text{d}^2h}{\\text{d}x^2} = \\frac{h - h_L}{\\lambda^2} \\qquad x\\ge 0\n",
    "\\end{equation}\n",
    "where $\\lambda$ is the leakage factor (with dimension length)\n",
    "\\begin{equation}\n",
    "\\lambda = \\sqrt{kHc}\n",
    "\\end{equation}\n",
    "Boundary conditions:\n",
    "\\begin{equation}\n",
    "x\\to -\\infty \\qquad Q_x=U\n",
    "\\end{equation}\n",
    "\\begin{equation}\n",
    "x\\to \\infty \\qquad h=h_L\n",
    "\\end{equation}\n",
    "\n",
    "Solution:\n",
    "\\begin{equation}\n",
    "h=-\\frac{U}{kH}(x - \\lambda) + h_L  \\qquad x\\le 0\n",
    "\\end{equation}\n",
    "\n",
    "\\begin{equation}\n",
    "h=\\frac{U\\lambda}{kH}\\exp\\left(\\frac{-x}{\\lambda}\\right) + h_L \\qquad x\\ge 0\n",
    "\\end{equation}"
   ]
  },
  {
   "cell_type": "code",
   "execution_count": null,
   "id": "7520fdd6",
   "metadata": {},
   "outputs": [],
   "source": [
    "# parameters\n",
    "k = 2 # hydraulic conductivity m/d\n",
    "H = 10 # saturated thickness\n",
    "U = 0.02 # flow to lake, m^2/d\n",
    "hL = 20 # head in lake, m\n",
    "c = 100 # resistance, d\n",
    "lab = np.sqrt(k * H * c) # leakage factor, m\n",
    "print(f'leakage factor lambda: {lab:.2f} m')"
   ]
  },
  {
   "cell_type": "code",
   "execution_count": null,
   "id": "2cdf1e1f",
   "metadata": {},
   "outputs": [],
   "source": [
    "# solution\n",
    "def head(x, k=k, H=H, U=U, hL=hL, lab=lab):\n",
    "    if x < 0:\n",
    "        h = -U / (k * H) * (x - lab) + hL\n",
    "    else:\n",
    "        h = U * lab / (k * H) * np.exp(-x / lab) + hL\n",
    "    return h\n",
    "        \n",
    "headvec = np.vectorize(head)\n",
    "\n",
    "x = np.linspace(-3 * lab, 3 * lab, 100)\n",
    "h = headvec(x)\n",
    "plt.plot(x, h)\n",
    "plt.xlabel('x (m)')\n",
    "plt.ylabel('head (m)')\n",
    "plt.grid()"
   ]
  },
  {
   "cell_type": "markdown",
   "id": "cbffcb5f",
   "metadata": {},
   "source": [
    "### Exercise 2.1\n",
    "Compute $U$ such that the head at $x=-500$ m is 1 m above the level of the lake."
   ]
  },
  {
   "cell_type": "markdown",
   "id": "9dcef846",
   "metadata": {},
   "source": [
    "\\begin{equation}\n",
    "-\\frac{U}{kH}(-500 - \\lambda) + h_L = h_L + 1\n",
    "\\end{equation}\n",
    "\n",
    "\\begin{equation}\n",
    "U = \\frac{kH}{500 + \\lambda}\n",
    "\\end{equation}"
   ]
  },
  {
   "cell_type": "code",
   "execution_count": null,
   "id": "e357705c-53a4-48d4-90da-2938542d7499",
   "metadata": {},
   "outputs": [],
   "source": [
    "# Type your code here"
   ]
  },
  {
   "cell_type": "markdown",
   "id": "cb193378",
   "metadata": {},
   "source": [
    "### Exercise 2.2$^*$\n",
    "Use numerical derivatives to show that the head solution for $x\\ge 0$ is correct at $x=50$. Recall that \n",
    "\n",
    "\\begin{equation}\n",
    "\\frac{\\text{d}^2h}{\\text{d}x^2} \\approx\n",
    "\\frac{h|_{x-d} - 2h|_x + h|_{x+d}}{d^2}\n",
    "\\end{equation}\n",
    "\n",
    "where $d$ is an increment."
   ]
  },
  {
   "cell_type": "code",
   "execution_count": null,
   "id": "692a69ec-657a-4b68-bec1-e8dbf7e2d4d0",
   "metadata": {},
   "outputs": [],
   "source": [
    "# Type your code here"
   ]
  },
  {
   "cell_type": "markdown",
   "id": "22b2b578",
   "metadata": {},
   "source": [
    "## Two-dimensional Dupuit flow in the vertical plane$^*$\n",
    "The horizontal ($q_x$) and vertical ($q_z$) components of the specific discharge vector may be expressed as \n",
    "\n",
    "\\begin{equation}\n",
    "q_x = \\frac{U}{H} \\qquad q_z=0 \\qquad x\\le 0\n",
    "\\end{equation}\n",
    "\n",
    "\\begin{equation}\n",
    "q_x = \\frac{U}{H}\\exp\\left(\\frac{-x}{\\lambda}\\right) \\qquad q_z=\\frac{U}{\\lambda}\\frac{z}{H}\\exp\\left(\\frac{-x}{\\lambda}\\right) \\qquad x\\ge 0\n",
    "\\end{equation}"
   ]
  },
  {
   "cell_type": "code",
   "execution_count": null,
   "id": "383584a1",
   "metadata": {},
   "outputs": [],
   "source": [
    "def qxqz(x, z):\n",
    "    if x < 0:\n",
    "        qx = U / H\n",
    "        qz = 0.0\n",
    "    else:\n",
    "        qx = U / H * np.exp(-x / lab)\n",
    "        qz = U / lab * z / H * np.exp(-x / lab)\n",
    "    return qx, qz\n",
    "\n",
    "qxqzvec = np.vectorize(qxqz)\n",
    "\n",
    "xg, zg = np.meshgrid(np.linspace(-3 * lab, 3 * lab, 101), np.linspace(0, H, 11))\n",
    "qx, qz = qxqzvec(xg, zg)\n",
    "\n",
    "plt.subplot(111, aspect=10)\n",
    "for zstart in np.arange(0.5, H, 0.5):\n",
    "    plt.streamplot(xg, zg, qx, qz, start_points=[(-100, zstart)]);\n",
    "plt.ylim(0, 10)\n",
    "plt.axvline(0, color='k', ls=':');"
   ]
  },
  {
   "cell_type": "markdown",
   "id": "465c4193-30b1-435b-bc30-d3efbd2c7e77",
   "metadata": {
    "tags": []
   },
   "source": [
    "# Solution 3. Flow towards a river in an unconfined aquifer"
   ]
  },
  {
   "cell_type": "markdown",
   "id": "10251c4d",
   "metadata": {
    "jp-MarkdownHeadingCollapsed": true,
    "tags": []
   },
   "source": [
    "## Introduction\n",
    "\n",
    "For an unconfined aquifer, the saturated thickness varies and is equal to the distance between the water table and the base of the aquifer. \n",
    "\n",
    "<IMG src=\"figs/merged_nbs3_2_0.svg\" width=400>\n",
    "    \n",
    "The elevation of the base of the aquifer is denoted as $z_b$, so that the saturated thickness is equal to $h-z_b$ and the discharge vector can be written as\n",
    "\\begin{equation}\n",
    "Q_x=-k(h-z_b)\\frac{\\text{d}h}{\\text{d}x}=-\\frac{\\text{d}}{\\text{d}x}\\left(\\tfrac{1}{2}k(h-z_b)^2\\right)\n",
    "\\end{equation}\n",
    "where it is used that the elevation $z_b$ of the base of the aquifer and the hydraulic conductivity are constant. \n",
    "The discharge potential for unconfined flow $\\Phi$ is introduced as\n",
    "\\begin{equation}\\label{pot_unconf}\n",
    "\\Phi = \\tfrac{1}{2}k(h-z_b)^2\n",
    "\\end{equation}\n",
    "so that the discharge vector can be written as \n",
    "\\begin{equation} \\label{Qxpot}\n",
    "Q_x = -\\frac{\\text{d}\\Phi}{\\text{d}x}\n",
    "\\end{equation}\n",
    "The discharge potential is an abstract concept but it provides a lot of mathematical convenience. Substitution of (\\ref{Qxpot}) for $Q_x$ into the continuity equation $\\frac{\\text{d}Q_x}{\\text{d}x}=N$ gives\n",
    "\\begin{equation}\\label{poisson1d}\n",
    "\\frac{\\text{d}^2\\Phi}{\\text{d}x^2}=-N\n",
    "\\end{equation}\n",
    "The general solution to this second order ordinary differential equation may be written as\n",
    "\\begin{equation}\\label{potgen1d}\n",
    "\\Phi=-\\frac{N}{2}x^2 + Ax +B\n",
    "\\end{equation}\n",
    "where the constants $A$ and $B$ need to be determined from the boundary conditions. Once a solution for the discharge potential is found, the solution for the head is obtained with \n",
    "\\begin{equation}\\label{hunconfined}\n",
    "h = z_b + \\sqrt{2\\Phi/k}\n",
    "\\end{equation}\n",
    "or the solution can also be written directly in terms of the head $h$\n",
    "\\begin{equation}\n",
    "h = z_b + \\sqrt{-\\frac{N}{k}(x^2 - L^2) + (h_L-z_b)^2}\n",
    "\\end{equation}\n"
   ]
  },
  {
   "cell_type": "markdown",
   "id": "374c0e63",
   "metadata": {},
   "source": [
    "## Problem definition\n",
    "\n",
    "Consider recharge on an unconfined aquifer bounded on the left by a groundwater divide and on the right by a river. The length of the aquifer is $L$ and the elevation of its bottom is $z_b$.\n",
    "\n",
    "<IMG src=\"figs/merged_nbs3_8_0.svg\">\n",
    "\n",
    "The boundary conditions are\n",
    "\\begin{equation}\n",
    "\\left. \\frac{\\text{d}h}{\\text{d}x}\\right\\vert_{x=0} = 0\n",
    "\\end{equation}\n",
    "\\begin{equation}\n",
    "h\\vert_{x=L} = h_L\n",
    "\\end{equation}\n",
    "where $h_L$ is the head in the river at $x=L$. \n",
    "\n",
    "In terms of the discharge potential $\\Phi$ the boundary conditions are\n",
    "\\begin{equation}\n",
    "\\left. \\frac{\\text{d}\\Phi}{\\text{d}x}\\right\\vert_{x=0} = 0\n",
    "\\end{equation}\n",
    "\\begin{equation}\n",
    "\\Phi\\vert_{x=L}=\\Phi_L=\\tfrac{1}{2}k(h_L-z_b)^2\n",
    "\\end{equation}\n",
    "The solution in terms of the discharge potential is\n",
    "\\begin{equation}\n",
    "\\Phi=-\\frac{N}{2}(x^2 - L^2) + \\Phi_L\n",
    "\\end{equation}\n",
    "The discharge vector $Q_x$ is obtained by differentiation of the potential as\n",
    "\\begin{equation}\\label{Qxunconfined}\n",
    "Q_x = -\\frac{\\text{d}\\Phi}{\\text{d}x}=  Nx\n",
    "\\end{equation}\n",
    "The solution for the head is obtained from the discharge potential as\n",
    "\\begin{equation}\\label{hunconfined}\n",
    "h = z_b + \\sqrt{-\\frac{N}{k}(x^2 - L^2) + (h_L-z_b)^2}\n",
    "\\end{equation}"
   ]
  },
  {
   "cell_type": "code",
   "execution_count": null,
   "id": "426c3b0d",
   "metadata": {},
   "outputs": [],
   "source": [
    "# parameters\n",
    "L = 1000 # aquifer length, m\n",
    "H = 10 # aquifer thickness, m\n",
    "zb = -5 # aquifer bottom, m\n",
    "k = 10 # hydraulic conductivity, m/d\n",
    "n = 0.3 # porosity, -\n",
    "hL = 4 # specified head at the right boundary, m\n",
    "N = 0.001  # areal recharge, m/d"
   ]
  },
  {
   "cell_type": "code",
   "execution_count": null,
   "id": "c5a4c519",
   "metadata": {},
   "outputs": [],
   "source": [
    "# solution\n",
    "phiL = 0.5 * k * (hL - zb) ** 2\n",
    "x = np.linspace(0, L, 100)\n",
    "h = zb + np.sqrt(-N / k * (x ** 2 - L ** 2) + (hL - zb) ** 2)\n",
    "Qx = N * x"
   ]
  },
  {
   "cell_type": "code",
   "execution_count": null,
   "id": "95ecef66-897d-4cdc-a991-5bc42f163daf",
   "metadata": {
    "tags": []
   },
   "outputs": [],
   "source": [
    "# plot\n",
    "plt.subplot(121)\n",
    "plt.plot(x, h)\n",
    "plt.grid()\n",
    "plt.xlabel('$x$ (m)')\n",
    "plt.ylabel('head (m)')\n",
    "plt.subplot(122)\n",
    "plt.plot(x, Qx)\n",
    "plt.grid()\n",
    "plt.xlabel('$x$ (m)')\n",
    "plt.ylabel('$Q_x$ (m$^2$/d)');"
   ]
  },
  {
   "cell_type": "markdown",
   "id": "25084f8f-9589-4038-9e27-af76a1aa10cf",
   "metadata": {
    "tags": []
   },
   "source": [
    "### Exercise 3.1\n",
    "\n",
    "The solution for the head for the same flow problem but with a constant saturated thickness $H$ is \n",
    "\\begin{equation}\\label{sol3h}\n",
    "h = -\\frac{N}{2T}(x^2 - L^2) + h_L\n",
    "\\end{equation}\n",
    "Note that this is the same equation as for the variable saturated thickness case except that $h$ replaces $\\Phi$. Plot this solution alongside the solution for a variable transmissivity in the figure above. Use $H = 10$ m. Also plot $Q_x$ vs $x$ for a constant $H$."
   ]
  },
  {
   "cell_type": "code",
   "execution_count": null,
   "id": "2911617f-7892-4de5-9fc8-fcc37b1f27c9",
   "metadata": {},
   "outputs": [],
   "source": [
    "# Type your code here"
   ]
  },
  {
   "cell_type": "markdown",
   "id": "6148327d-bcb9-422d-b862-2573b397c281",
   "metadata": {
    "tags": []
   },
   "source": [
    "# Solution 4 Confined interface flow in coastal aquifers"
   ]
  },
  {
   "cell_type": "markdown",
   "id": "bf9298cf-efa7-47ea-98e8-cc667436f795",
   "metadata": {},
   "source": [
    "## Introduction\n",
    "Fresh water flows towards the coast, where it exits in the saltwater of the sea or ocean. The transition zone between freshwater and saltwater in the aquifer is approximated as an interface. The freshwater is slightly lighter than the saltwater so that it flows on top of the saltwater (see Figure). Solutions for steady interface flow concern an end situation with flowing freshwater and stagnant saltwater. The point where the interface intersects the bottom of the aquifer is called the toe of the interface while the point where the interface intersects the sea bottom is called the tip. For the solution presented here, the size of the outflow zone below the sea bottom is neglected so that the tip of the interface is at the shoreline (the Dupuit approximation). "
   ]
  },
  {
   "cell_type": "markdown",
   "id": "fd895c80-17f0-4113-ac04-c2111396d1b5",
   "metadata": {},
   "source": [
    "\n",
    "\n",
    "<img src=\"figs/ex4_def.png\" width=400>\n",
    "\n",
    "The density of the freshwater is $\\rho_f = 1000$ kg/m$^3$ while the density of the seawater is approximately $\\rho_s\\approx 1025$ kg/m$^3$.\n",
    "\n",
    "The Ghyben-Herzberg equation state that the elevation of the interface $z_i$ can be computed from the head in the freshwater measured with respect to sealevel as\n",
    "\n",
    "\\begin{equation}\n",
    "z_i = -\\frac{\\rho_f}{\\rho_s - \\rho_f} h \\approx \\frac{-1000}{1025 - 1000} h = -40h\n",
    "\\end{equation}"
   ]
  },
  {
   "cell_type": "markdown",
   "id": "90e9da1f-d92c-4242-8631-95fe716f416a",
   "metadata": {
    "tags": []
   },
   "source": [
    "## Problem definition"
   ]
  },
  {
   "cell_type": "markdown",
   "id": "4b400004-ae6b-409c-827e-e5be87a70469",
   "metadata": {},
   "source": [
    "<img src=\"figs/ex4_setup.png\" width=400>"
   ]
  },
  {
   "cell_type": "markdown",
   "id": "030e0fe7-54a8-4caa-830f-1ede66c74f01",
   "metadata": {},
   "source": [
    "Boundary conditions:\n",
    "\\begin{equation}\n",
    "x\\to -\\infty \\qquad Q_x=U\n",
    "\\end{equation}\n",
    "\n",
    "\\begin{equation}\n",
    "x=0 \\qquad z_i=z_t \\to h=-z_t / \\alpha\n",
    "\\end{equation}\n",
    "where\n",
    "\\begin{equation}\n",
    "\\alpha=\\frac{\\rho_f}{\\rho_s-\\rho_f}\n",
    "\\end{equation}"
   ]
  },
  {
   "cell_type": "markdown",
   "id": "f3f248cc-8b9a-41a2-b104-0fd71ddd9f6b",
   "metadata": {},
   "source": [
    "The solution for the location of the toe is:\n",
    "\n",
    "\\begin{equation}\\label{xtoeconf}\n",
    "x_\\text{toe}=-\\frac{kH^2}{2\\alpha U}\n",
    "\\end{equation}\n",
    "\n",
    "The solution for the head is \n",
    "\\begin{equation}\n",
    "h = \\frac{-Ux}{kH} -\\frac{\\tfrac{1}{2} H + z_b}{\\alpha} {\\hskip 2em} x \\le x_\\text{toe}\n",
    "\\end{equation}\n",
    "\n",
    "\\begin{equation}\n",
    "h=\\sqrt{\\frac{-2Ux}{k\\alpha}}-\\frac{z_t}{\\alpha} {\\hskip 2em} x_\\text{toe}\\le x \\le 0\n",
    "\\end{equation}"
   ]
  },
  {
   "cell_type": "code",
   "execution_count": null,
   "id": "973ab7c6-32ad-40cd-9f38-b02b168b1530",
   "metadata": {},
   "outputs": [],
   "source": [
    "# parameters\n",
    "k = 10 # hydraulic conductivity, m/d\n",
    "zt = -10 # top of aquifer, m\n",
    "zb = -30 # bottom of aquifer, m\n",
    "rhof = 1000 # density of fresh water, kg/m^3\n",
    "rhos = 1025 # density of salt water, kg/m^3\n",
    "U = 0.4 # flow towards the coast, m^2/d\n",
    "H = zt - zb # aquifer thickness, m\n",
    "alpha = rhof / (rhos - rhof) # alpha, -\n",
    "xtoe = -k * H ** 2 / (2 * alpha * U) # toe, m\n",
    "print(f'toe is at: {xtoe} m')"
   ]
  },
  {
   "cell_type": "code",
   "execution_count": null,
   "id": "cf584847-bce9-4ba6-bec5-9a52ca7070d8",
   "metadata": {},
   "outputs": [],
   "source": [
    "def head(x):\n",
    "    if x < xtoe:\n",
    "        h = -U * x / (k * H) - (0.5 * H + zb) / alpha\n",
    "    else:\n",
    "        h = np.sqrt(-2 * U * x / (k * alpha)) - zt / alpha\n",
    "    return h\n",
    "\n",
    "headvec = np.vectorize(head) # vectorize the function\n",
    "\n",
    "x = np.linspace(-200, 0, 100)\n",
    "h = headvec(x)\n",
    "plt.plot(x, h, label='head')\n",
    "xi = np.linspace(xtoe, 0, 100)\n",
    "zi = -headvec(xi) * alpha\n",
    "plt.plot(xi, zi, label='interface')\n",
    "plt.axhline(0, color='darkblue')\n",
    "plt.axhline(zt, color='k')\n",
    "plt.axhline(zb, color='k')\n",
    "plt.xlim(-200, 0)\n",
    "plt.xlabel('x (m)')\n",
    "plt.ylabel('z (m)')\n",
    "plt.grid()\n",
    "plt.legend();"
   ]
  },
  {
   "cell_type": "markdown",
   "id": "883c4cb9-c81a-4e88-9b91-af1bce9e094c",
   "metadata": {
    "tags": []
   },
   "source": [
    "### Exercise 4.1\n",
    "The head is measured at two observation wells upstream of the interface. The wells are $\\Delta x = 500$ m apart and the head difference is $\\Delta h = 0.5$ meter. Compute the location of the toe for this case and plot the interface."
   ]
  },
  {
   "cell_type": "code",
   "execution_count": null,
   "id": "49f6959a-fba6-493e-810d-9a268d2170ea",
   "metadata": {},
   "outputs": [],
   "source": [
    "# Type your code here"
   ]
  },
  {
   "cell_type": "markdown",
   "id": "7a05b881-fcf2-4cab-8b95-61f4786e78cd",
   "metadata": {
    "tags": []
   },
   "source": [
    "### Exercise 4.2$^*$\n",
    "Use the data of the example. Compute the toe when the sea level rises by 1 m, while all other parameters, including the flow to the coast $U$ remain the same. "
   ]
  },
  {
   "cell_type": "code",
   "execution_count": null,
   "id": "c5611e35-95c8-40bd-add4-255f841aea95",
   "metadata": {},
   "outputs": [],
   "source": [
    "# Type your code here"
   ]
  },
  {
   "cell_type": "markdown",
   "id": "0443ffa7-9916-406b-9d90-ad3a46644850",
   "metadata": {},
   "source": [
    "### In reality there is an outflow zone$^*$\n",
    "The size of the outflow zone below the sea bottom can be computed by simulating two-dimensional flow in the vertical plane. The solution is obtained with the hodograph and complex variables and is shown in the figure below (Glover). In the graph, the interface is shown for both the case of an isotropic hydraulic conductivity and an anisotropic hydraulic conductivity ($k_z=k_x/10$), and or the one-dimensinoal Dupuit solution. The Dupuit solution is a very good approximation of the interface.\n",
    "\n",
    "<img src=\"figs/ex4_2d.png\" width=400>"
   ]
  },
  {
   "cell_type": "markdown",
   "id": "e487ee34-fe22-4b96-8c19-4f86d08ecb99",
   "metadata": {},
   "source": [
    "<img src=\"figs/ex4_2d_vs_dupuit.png\" width=400>"
   ]
  }
 ],
 "metadata": {
  "kernelspec": {
   "display_name": "Python 3",
   "language": "python",
   "name": "python3"
  },
  "language_info": {
   "codemirror_mode": {
    "name": "ipython",
    "version": 3
   },
   "file_extension": ".py",
   "mimetype": "text/x-python",
   "name": "python",
   "nbconvert_exporter": "python",
   "pygments_lexer": "ipython3",
   "version": "3.8.8"
  },
  "latex_envs": {
   "LaTeX_envs_menu_present": true,
   "autoclose": false,
   "autocomplete": true,
   "bibliofile": "biblio.bib",
   "cite_by": "apalike",
   "current_citInitial": 1,
   "eqLabelWithNumbers": true,
   "eqNumInitial": 1,
   "hotkeys": {
    "equation": "Ctrl-E",
    "itemize": "Ctrl-I"
   },
   "labels_anchors": false,
   "latex_user_defs": false,
   "report_style_numbering": false,
   "user_envs_cfg": false
  }
 },
 "nbformat": 4,
 "nbformat_minor": 5
}
